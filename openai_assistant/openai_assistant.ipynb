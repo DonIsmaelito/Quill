{
 "cells": [
  {
   "cell_type": "code",
   "execution_count": 13,
   "metadata": {},
   "outputs": [],
   "source": [
    "from openai import OpenAI\n",
    "client = OpenAI(api_key='INPUT API KEY')"
   ]
  },
  {
   "cell_type": "code",
   "execution_count": 14,
   "metadata": {},
   "outputs": [],
   "source": [
    "file = client.files.create(\n",
    "file=open(\"Intake_Form.pdf\", \"rb\"),\n",
    "purpose='assistants'\n",
    ")"
   ]
  },
  {
   "cell_type": "code",
   "execution_count": 3,
   "metadata": {},
   "outputs": [],
   "source": [
    "assistant = client.beta.assistants.create(\n",
    "instructions = \"Role and Context: You are an AI assistant for an attorney specializing in real estate property tax. You have access to a standard intake form called Intake_Form.pdf. Task Overview: When a user interacts with you, 1. identify and list all the required fields (blank spaces) in the Intake_Form.pdf; 2.Ask the user to provide the information needed for those fields; 3.If the user cannot provide all the required details, fill in only the fields for which information was provided; 4.Leave blank any fields for which no information was provided, ensuring the overall layout and formatting remain consistent with the original form; 5.Generate a PDF (partial or complete) that includes: All supplied information in the correct fields and Any remaining blank fields clearly left empty (with the same label/formatting); 6.Generate user_data.json to store the provided information with the name of the field as keys and the provided information as values. Important Requirements: 1.Always preserve the original form's format, labels, and structure; 2.If certain fields are not filled out, those fields must remain visibly blank in the final document; 3.You must never remove or alter any existing text, labels, or structure in the form; 4.The final PDF output should contain all provided information in the correct fields, even if some fields remain empty; 5. Remember to generate user_data.json to store already provided information.\",\n",
    "model=\"gpt-4o\",\n",
    "tools=[{\"type\": \"code_interpreter\"}],\n",
    "tool_resources={\n",
    "  \"code_interpreter\": {\n",
    "    \"file_ids\": [file.id]\n",
    "  }\n",
    "}\n",
    ")"
   ]
  },
  {
   "cell_type": "code",
   "execution_count": 4,
   "metadata": {},
   "outputs": [
    {
     "name": "stdout",
     "output_type": "stream",
     "text": [
      "Thread(id='thread_1mJIUQZmBEAvn0O337QECrPZ', created_at=1738272947, metadata={}, object='thread', tool_resources=ToolResources(code_interpreter=None, file_search=None))\n"
     ]
    }
   ],
   "source": [
    "thread = client.beta.threads.create()\n",
    "print(thread)"
   ]
  },
  {
   "cell_type": "code",
   "execution_count": 5,
   "metadata": {},
   "outputs": [],
   "source": [
    "message = client.beta.threads.messages.create(\n",
    "thread_id=thread.id,\n",
    "role=\"user\",\n",
    "content=\"I need an attorney in property tax. Can you help me?\"\n",
    ")"
   ]
  },
  {
   "cell_type": "code",
   "execution_count": 6,
   "metadata": {},
   "outputs": [],
   "source": [
    "run = client.beta.threads.runs.create_and_poll(\n",
    "thread_id=thread.id,\n",
    "assistant_id=assistant.id\n",
    ")"
   ]
  },
  {
   "cell_type": "code",
   "execution_count": 7,
   "metadata": {},
   "outputs": [
    {
     "name": "stdout",
     "output_type": "stream",
     "text": [
      "user: I need an attorney in property tax. Can you help me?\n",
      "assistant: Yes, I can assist you with property tax-related inquiries. To proceed, let's start by reviewing the Intake_Form.pdf you've uploaded. I'll identify the required fields for you to fill out, and then you can provide the necessary information. \n",
      "\n",
      "Let me first examine the uploaded document to list all the fields we need to fill.\n",
      "assistant: The extracted text from the PDF shows several fields that you need to fill out. Here are some of the key fields identified:\n",
      "\n",
      "1. County\n",
      "2. Township\n",
      "3. PIN(s) (Property Identification Number)\n",
      "4. Address of Property\n",
      "5. Square Feet of Building\n",
      "6. Recent Purchase? (Yes/No)\n",
      "7. Demolition? (Yes/No)\n",
      "8. Demo Permit?\n",
      "9. Paid Receipt?\n",
      "10. Demo Affidavit?\n",
      "11. Excess Land?\n",
      "12. Non-Buildable Area (Conservancy, Wetlands, Detention Pond)?\n",
      "13. New Building Completed When?\n",
      "14. Have Occupancy Permit?\n",
      "15. Vacancy 2024\n",
      "16. Vacancy 2025\n",
      "17. Is property being offered for sale? (Yes/No)\n",
      "18. Physical problems with property\n",
      "19. Problems with area in which property is located\n",
      "20. Environmental problems with property\n",
      "21. Any additions or improvements to the property within the last year?\n",
      "\n",
      "Please provide the information for these fields as much as you can, and I'll prepare the document accordingly. Let me know if you need more context about any of the fields.\n"
     ]
    }
   ],
   "source": [
    "messages = client.beta.threads.messages.list(\n",
    "    thread_id=thread.id\n",
    ")\n",
    "for message in reversed(messages.data):\n",
    "    print(message.role + ': ' + message.content[0].text.value)\n"
   ]
  },
  {
   "cell_type": "code",
   "execution_count": 8,
   "metadata": {},
   "outputs": [],
   "source": [
    "message = client.beta.threads.messages.create(\n",
    "thread_id=thread.id,\n",
    "role=\"user\",\n",
    "content=\"1. Cook; 2. Northfield. The rest is still unknown. Could you generate the form filled with these two blanks fielded?\"\n",
    ")"
   ]
  },
  {
   "cell_type": "code",
   "execution_count": 9,
   "metadata": {},
   "outputs": [],
   "source": [
    "run = client.beta.threads.runs.create_and_poll(\n",
    "thread_id=thread.id,\n",
    "assistant_id=assistant.id\n",
    ")"
   ]
  },
  {
   "cell_type": "code",
   "execution_count": 10,
   "metadata": {},
   "outputs": [
    {
     "name": "stdout",
     "output_type": "stream",
     "text": [
      "user: I need an attorney in property tax. Can you help me?\n",
      "assistant: Yes, I can assist you with property tax-related inquiries. To proceed, let's start by reviewing the Intake_Form.pdf you've uploaded. I'll identify the required fields for you to fill out, and then you can provide the necessary information. \n",
      "\n",
      "Let me first examine the uploaded document to list all the fields we need to fill.\n",
      "assistant: The extracted text from the PDF shows several fields that you need to fill out. Here are some of the key fields identified:\n",
      "\n",
      "1. County\n",
      "2. Township\n",
      "3. PIN(s) (Property Identification Number)\n",
      "4. Address of Property\n",
      "5. Square Feet of Building\n",
      "6. Recent Purchase? (Yes/No)\n",
      "7. Demolition? (Yes/No)\n",
      "8. Demo Permit?\n",
      "9. Paid Receipt?\n",
      "10. Demo Affidavit?\n",
      "11. Excess Land?\n",
      "12. Non-Buildable Area (Conservancy, Wetlands, Detention Pond)?\n",
      "13. New Building Completed When?\n",
      "14. Have Occupancy Permit?\n",
      "15. Vacancy 2024\n",
      "16. Vacancy 2025\n",
      "17. Is property being offered for sale? (Yes/No)\n",
      "18. Physical problems with property\n",
      "19. Problems with area in which property is located\n",
      "20. Environmental problems with property\n",
      "21. Any additions or improvements to the property within the last year?\n",
      "\n",
      "Please provide the information for these fields as much as you can, and I'll prepare the document accordingly. Let me know if you need more context about any of the fields.\n",
      "user: 1. Cook; 2. Northfield. The rest is still unknown. Could you generate the form filled with these two blanks fielded?\n",
      "assistant: I've generated the filled PDF form with the information you provided. You can download the file using the link below:\n",
      "\n",
      "[Download the filled form](sandbox:/mnt/data/filled_form.pdf)\n",
      "\n",
      "I've also created a JSON file to store the information you provided:\n",
      "\n",
      "[Download user data JSON](sandbox:/mnt/data/user_data.json)\n",
      "\n",
      "Feel free to provide more information as it becomes available, and I can update the form accordingly.\n"
     ]
    }
   ],
   "source": [
    "messages = client.beta.threads.messages.list(\n",
    "    thread_id=thread.id\n",
    ")\n",
    "for message in reversed(messages.data):\n",
    "    print(message.role + ': ' + message.content[0].text.value)\n",
    "\n",
    "\n"
   ]
  },
  {
   "cell_type": "code",
   "execution_count": 11,
   "metadata": {},
   "outputs": [
    {
     "name": "stdout",
     "output_type": "stream",
     "text": [
      "Message(id='msg_aMblTMU3sqZxmU7QS6zRZqBh', assistant_id='asst_3lWgtpIxV3x04whvMI97yTaC', attachments=[Attachment(file_id='file-RMcmqX4dnP7MbXjyfzZxMR', tools=[CodeInterpreterTool(type='code_interpreter')]), Attachment(file_id='file-6uEdyWPHuZ3uW7bbpXj7dD', tools=[CodeInterpreterTool(type='code_interpreter')])], completed_at=None, content=[TextContentBlock(text=Text(annotations=[FilePathAnnotation(end_index=179, file_path=FilePath(file_id='file-6uEdyWPHuZ3uW7bbpXj7dD'), start_index=146, text='sandbox:/mnt/data/filled_form.pdf', type='file_path'), FilePathAnnotation(end_index=310, file_path=FilePath(file_id='file-RMcmqX4dnP7MbXjyfzZxMR'), start_index=278, text='sandbox:/mnt/data/user_data.json', type='file_path')], value=\"I've generated the filled PDF form with the information you provided. You can download the file using the link below:\\n\\n[Download the filled form](sandbox:/mnt/data/filled_form.pdf)\\n\\nI've also created a JSON file to store the information you provided:\\n\\n[Download user data JSON](sandbox:/mnt/data/user_data.json)\\n\\nFeel free to provide more information as it becomes available, and I can update the form accordingly.\"), type='text')], created_at=1738272983, incomplete_at=None, incomplete_details=None, metadata={}, object='thread.message', role='assistant', run_id='run_nex2QvhtOyHuU0vvmZUa8PlA', status=None, thread_id='thread_1mJIUQZmBEAvn0O337QECrPZ')\n"
     ]
    }
   ],
   "source": [
    "print(messages.data[0])"
   ]
  },
  {
   "cell_type": "code",
   "execution_count": 12,
   "metadata": {},
   "outputs": [],
   "source": [
    "doc_names = ['user_data.json', 'filled_intake_form.pdf']\n",
    "for idx in range(len(messages.data[0].attachments)):\n",
    "        \n",
    "    file_data = client.files.content(messages.data[0].attachments[idx].file_id)\n",
    "    file_data_bytes = file_data.read()\n",
    "\n",
    "    with open(doc_names[idx], \"wb\") as f:\n",
    "            f.write(file_data_bytes)"
   ]
  }
 ],
 "metadata": {
  "kernelspec": {
   "display_name": "quill",
   "language": "python",
   "name": "python3"
  },
  "language_info": {
   "codemirror_mode": {
    "name": "ipython",
    "version": 3
   },
   "file_extension": ".py",
   "mimetype": "text/x-python",
   "name": "python",
   "nbconvert_exporter": "python",
   "pygments_lexer": "ipython3",
   "version": "3.12.8"
  }
 },
 "nbformat": 4,
 "nbformat_minor": 2
}
