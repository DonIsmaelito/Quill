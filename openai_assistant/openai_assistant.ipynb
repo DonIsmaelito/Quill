{
 "cells": [
  {
   "cell_type": "code",
   "execution_count": 13,
   "metadata": {},
   "outputs": [],
   "source": [
    "from openai import OpenAI\n",
    "client = OpenAI(api_key='input your api key')"
   ]
  },
  {
   "cell_type": "code",
   "execution_count": 14,
   "metadata": {},
   "outputs": [],
   "source": [
    "file = client.files.create(\n",
    "file=open(\"Intake_Form.pdf\", \"rb\"),\n",
    "purpose='assistants'\n",
    ")"
   ]
  },
  {
   "cell_type": "code",
   "execution_count": 15,
   "metadata": {},
   "outputs": [],
   "source": [
    "assistant = client.beta.assistants.create(\n",
    "instructions = \"Role and Context: You are an AI assistant for an attorney specializing in real estate property tax. You have access to a standard intake form called Intake_Form.pdf. Task Overview: When a user interacts with you, 1. identify and list all the required fields (blank spaces) in the Intake_Form.pdf; 2.Ask the user to provide the information needed for those fields; 3.If the user cannot provide all the required details, fill in only the fields for which information was provided; 4.Leave blank any fields for which no information was provided, ensuring the overall layout and formatting remain consistent with the original form; 5.Generate a PDF (partial or complete) that includes: All supplied information in the correct fields and Any remaining blank fields clearly left empty (with the same label/formatting); 6.Generate user_data.json to store the provided information with the name of the field as keys and the provided information as values. Important Requirements: 1.Always preserve the original form's format, labels, and structure; 2.If certain fields are not filled out, those fields must remain visibly blank in the final document; 3.You must never remove or alter any existing text, labels, or structure in the form; 4.The final PDF output should contain all provided information in the correct fields, even if some fields remain empty; 5. Remember to generate user_data.json to store already provided information.\",\n",
    "model=\"gpt-4o\",\n",
    "tools=[{\"type\": \"code_interpreter\"}],\n",
    "tool_resources={\n",
    "  \"code_interpreter\": {\n",
    "    \"file_ids\": [file.id]\n",
    "  }\n",
    "}\n",
    ")"
   ]
  },
  {
   "cell_type": "code",
   "execution_count": 16,
   "metadata": {},
   "outputs": [
    {
     "name": "stdout",
     "output_type": "stream",
     "text": [
      "Thread(id='thread_QeEqgAIqLnqhuSXIk90bKBwP', created_at=1738003704, metadata={}, object='thread', tool_resources=ToolResources(code_interpreter=None, file_search=None))\n"
     ]
    }
   ],
   "source": [
    "thread = client.beta.threads.create()\n",
    "print(thread)"
   ]
  },
  {
   "cell_type": "code",
   "execution_count": 17,
   "metadata": {},
   "outputs": [],
   "source": [
    "message = client.beta.threads.messages.create(\n",
    "thread_id=thread.id,\n",
    "role=\"user\",\n",
    "content=\"I need an attorney in property tax. Can you help me?\"\n",
    ")"
   ]
  },
  {
   "cell_type": "code",
   "execution_count": 19,
   "metadata": {},
   "outputs": [],
   "source": [
    "run = client.beta.threads.runs.create_and_poll(\n",
    "thread_id=thread.id,\n",
    "assistant_id=assistant.id\n",
    ")"
   ]
  },
  {
   "cell_type": "code",
   "execution_count": 20,
   "metadata": {},
   "outputs": [
    {
     "name": "stdout",
     "output_type": "stream",
     "text": [
      "user: I need an attorney in property tax. Can you help me?\n",
      "assistant: I specialize in assisting with real estate property tax, particularly with tasks related to completing and handling legal forms associated with property tax issues. Let's start by reviewing the uploaded document to see what details are required. Then, I can help you fill out the form with the information you provide. Let's identify the required fields in the Intake_Form.pdf.\n",
      "assistant: The text extracted from the PDF provides an overview of the fields in the form. Based on the text preview, here are some of the fields likely present in the form:\n",
      "\n",
      "1. County\n",
      "2. Township\n",
      "3. PIN(s) (Property Index Number)\n",
      "4. Address of Property\n",
      "5. Square Feet of Building\n",
      "6. Recent Purchase? (Yes/No)\n",
      "7. Demolition? (Yes/No)\n",
      "8. Demo Permit? (Yes/No)\n",
      "9. Paid Receipt? (Yes/No)\n",
      "10. Demo Affidavit? (Yes/No)\n",
      "11. Excess Land? (Yes/No)\n",
      "12. Non-Buildable Area (Conservancy, Wetlands, Detention Pond) (Yes/No)\n",
      "13. New Building Completed When?\n",
      "14. Have Occupancy Permit? (Yes/No)\n",
      "15. Vacancy for 2024\n",
      "16. Vacancy for 2025\n",
      "\n",
      "Please provide the details for these fields. If you're unable to provide details for some fields, that's okay; we'll fill in as much as possible and leave the other fields blank.\n"
     ]
    }
   ],
   "source": [
    "messages = client.beta.threads.messages.list(\n",
    "    thread_id=thread.id\n",
    ")\n",
    "for message in reversed(messages.data):\n",
    "    print(message.role + ': ' + message.content[0].text.value)\n"
   ]
  },
  {
   "cell_type": "code",
   "execution_count": 21,
   "metadata": {},
   "outputs": [],
   "source": [
    "message = client.beta.threads.messages.create(\n",
    "thread_id=thread.id,\n",
    "role=\"user\",\n",
    "content=\"1. Cook; 2. Northfield. The rest is still unknown. Could you generate the form filled with these two blanks fielded?\"\n",
    ")"
   ]
  },
  {
   "cell_type": "code",
   "execution_count": 22,
   "metadata": {},
   "outputs": [],
   "source": [
    "run = client.beta.threads.runs.create_and_poll(\n",
    "thread_id=thread.id,\n",
    "assistant_id=assistant.id\n",
    ")"
   ]
  },
  {
   "cell_type": "code",
   "execution_count": 23,
   "metadata": {},
   "outputs": [
    {
     "name": "stdout",
     "output_type": "stream",
     "text": [
      "user: I need an attorney in property tax. Can you help me?\n",
      "assistant: I specialize in assisting with real estate property tax, particularly with tasks related to completing and handling legal forms associated with property tax issues. Let's start by reviewing the uploaded document to see what details are required. Then, I can help you fill out the form with the information you provide. Let's identify the required fields in the Intake_Form.pdf.\n",
      "assistant: The text extracted from the PDF provides an overview of the fields in the form. Based on the text preview, here are some of the fields likely present in the form:\n",
      "\n",
      "1. County\n",
      "2. Township\n",
      "3. PIN(s) (Property Index Number)\n",
      "4. Address of Property\n",
      "5. Square Feet of Building\n",
      "6. Recent Purchase? (Yes/No)\n",
      "7. Demolition? (Yes/No)\n",
      "8. Demo Permit? (Yes/No)\n",
      "9. Paid Receipt? (Yes/No)\n",
      "10. Demo Affidavit? (Yes/No)\n",
      "11. Excess Land? (Yes/No)\n",
      "12. Non-Buildable Area (Conservancy, Wetlands, Detention Pond) (Yes/No)\n",
      "13. New Building Completed When?\n",
      "14. Have Occupancy Permit? (Yes/No)\n",
      "15. Vacancy for 2024\n",
      "16. Vacancy for 2025\n",
      "\n",
      "Please provide the details for these fields. If you're unable to provide details for some fields, that's okay; we'll fill in as much as possible and leave the other fields blank.\n",
      "user: 1. Cook; 2. Northfield. The rest is still unknown. Could you generate the form filled with these two blanks fielded?\n",
      "assistant: Great! Let's fill in the provided fields in the form. I'll use the information you provided for the \"County\" and \"Township\" fields. The rest of the fields will remain blank. After filling these, I will generate the PDF and a JSON file with the information you provided. Let's proceed.\n",
      "assistant: I have filled in the \"County\" and \"Township\" fields as requested and generated the PDF document. You can download the filled PDF and the JSON containing the provided data from the links below:\n",
      "\n",
      "- [Download Filled PDF Form](sandbox:/mnt/data/filled_Intake_Form.pdf)\n",
      "- [Download user_data.json](sandbox:/mnt/data/user_data.json)\n",
      "\n",
      "If you need further assistance or additional information, feel free to ask!\n"
     ]
    }
   ],
   "source": [
    "messages = client.beta.threads.messages.list(\n",
    "    thread_id=thread.id\n",
    ")\n",
    "for message in reversed(messages.data):\n",
    "    print(message.role + ': ' + message.content[0].text.value)\n",
    "\n",
    "\n"
   ]
  },
  {
   "cell_type": "code",
   "execution_count": 24,
   "metadata": {},
   "outputs": [
    {
     "name": "stdout",
     "output_type": "stream",
     "text": [
      "Message(id='msg_0h0oDcxQZMW9NM5cNJB6TP4F', assistant_id='asst_LXFyxb5AyIWVk4aOgmyJadO6', attachments=[Attachment(file_id='file-RHbcewMc5NZxiUWvcEajaX', tools=[CodeInterpreterTool(type='code_interpreter')]), Attachment(file_id='file-CfBbPmFLraWoEVSXga2sbn', tools=[CodeInterpreterTool(type='code_interpreter')])], completed_at=None, content=[TextContentBlock(text=Text(annotations=[FilePathAnnotation(end_index=263, file_path=FilePath(file_id='file-CfBbPmFLraWoEVSXga2sbn'), start_index=223, text='sandbox:/mnt/data/filled_Intake_Form.pdf', type='file_path'), FilePathAnnotation(end_index=325, file_path=FilePath(file_id='file-RHbcewMc5NZxiUWvcEajaX'), start_index=293, text='sandbox:/mnt/data/user_data.json', type='file_path')], value='I have filled in the \"County\" and \"Township\" fields as requested and generated the PDF document. You can download the filled PDF and the JSON containing the provided data from the links below:\\n\\n- [Download Filled PDF Form](sandbox:/mnt/data/filled_Intake_Form.pdf)\\n- [Download user_data.json](sandbox:/mnt/data/user_data.json)\\n\\nIf you need further assistance or additional information, feel free to ask!'), type='text')], created_at=1738003760, incomplete_at=None, incomplete_details=None, metadata={}, object='thread.message', role='assistant', run_id='run_L1mfNB5JVC5B7LHEEr3ZQ1I6', status=None, thread_id='thread_QeEqgAIqLnqhuSXIk90bKBwP')\n"
     ]
    }
   ],
   "source": [
    "print(messages.data[0])"
   ]
  },
  {
   "cell_type": "code",
   "execution_count": 26,
   "metadata": {},
   "outputs": [],
   "source": [
    "doc_names = ['user_data.json', 'filled_intake_form.pdf']\n",
    "for idx in range(len(messages.data[0].attachments)):\n",
    "        \n",
    "    file_data = client.files.content(messages.data[0].attachments[idx].file_id)\n",
    "    file_data_bytes = file_data.read()\n",
    "\n",
    "    with open(doc_names[idx], \"wb\") as f:\n",
    "            f.write(file_data_bytes)"
   ]
  },
  {
   "cell_type": "code",
   "execution_count": 12,
   "metadata": {},
   "outputs": [],
   "source": [
    "file_data = client.files.content(messages.data[0].attachments[0].file_id)\n",
    "file_data_bytes = file_data.read()\n",
    "\n",
    "with open('filled_intake_form.pdf', \"wb\") as f:\n",
    "            f.write(file_data_bytes)"
   ]
  },
  {
   "cell_type": "code",
   "execution_count": 37,
   "metadata": {},
   "outputs": [
    {
     "name": "stdout",
     "output_type": "stream",
     "text": [
      "New run created: run_RB2wU4iOpTYdaU9gMCSvTZKq\n",
      "\n",
      "--- Conversation so far ---\n",
      "Assistant: The Intake Form PDF has 8 blanks that need to be filled. Here is the context of the fields from the document:\n",
      "\n",
      "1. County\n",
      "2. Township\n",
      "3. PIN(s)\n",
      "4. Address of Property\n",
      "5. Square Feet of Building\n",
      "6. Recent Purchase?\n",
      "7. Demolition?\n",
      "8. Demolition Permit?\n",
      "\n",
      "To fill out the form, please provide the required information for each of these fields.\n",
      "User: Hi\n",
      "Assistant: Hello! How can I assist you today? Are you ready to provide the information needed to fill out the Intake Form PDF?\n",
      "--------------------------\n",
      "\n",
      "\n",
      "--- Conversation so far ---\n",
      "Assistant: The Intake Form PDF has 8 blanks that need to be filled. Here is the context of the fields from the document:\n",
      "\n",
      "1. County\n",
      "2. Township\n",
      "3. PIN(s)\n",
      "4. Address of Property\n",
      "5. Square Feet of Building\n",
      "6. Recent Purchase?\n",
      "7. Demolition?\n",
      "8. Demolition Permit?\n",
      "\n",
      "To fill out the form, please provide the required information for each of these fields.\n",
      "User: Hi\n",
      "Assistant: Hello! How can I assist you today? Are you ready to provide the information needed to fill out the Intake Form PDF?\n",
      "User: 1. Cook; 2. Northfield. The rest is still unknown. Could you generate the form filled with these two blanks fielded?\n",
      "Assistant: Here is the form filled with the provided information:\n",
      "\n",
      "- County: Cook\n",
      "- Township: Northfield\n",
      "\n",
      "You can download it using the link below:\n",
      "\n",
      "[Download the Filled Intake Form](sandbox:/mnt/data/Final_Filled_Intake_Form.pdf)\n",
      "\n",
      "If you have any more information to fill in or need further assistance, feel free to let me know!\n",
      "--------------------------\n",
      "\n",
      "\n",
      "--- Conversation so far ---\n",
      "Assistant: The Intake Form PDF has 8 blanks that need to be filled. Here is the context of the fields from the document:\n",
      "\n",
      "1. County\n",
      "2. Township\n",
      "3. PIN(s)\n",
      "4. Address of Property\n",
      "5. Square Feet of Building\n",
      "6. Recent Purchase?\n",
      "7. Demolition?\n",
      "8. Demolition Permit?\n",
      "\n",
      "To fill out the form, please provide the required information for each of these fields.\n",
      "User: Hi\n",
      "Assistant: Hello! How can I assist you today? Are you ready to provide the information needed to fill out the Intake Form PDF?\n",
      "User: 1. Cook; 2. Northfield. The rest is still unknown. Could you generate the form filled with these two blanks fielded?\n",
      "Assistant: Here is the form filled with the provided information:\n",
      "\n",
      "- County: Cook\n",
      "- Township: Northfield\n",
      "\n",
      "You can download it using the link below:\n",
      "\n",
      "[Download the Filled Intake Form](sandbox:/mnt/data/Final_Filled_Intake_Form.pdf)\n",
      "\n",
      "If you have any more information to fill in or need further assistance, feel free to let me know!\n",
      "User: complete conversatio\n",
      "Assistant: Certainly! Here's a summary of our conversation:\n",
      "\n",
      "1. You uploaded an Intake Form PDF and requested assistance in filling it out.\n",
      "2. I identified 8 blank fields in the document.\n",
      "3. You provided information for the first two fields:\n",
      "   - County: Cook\n",
      "   - Township: Northfield\n",
      "4. I generated a new PDF with the provided information filled in and shared it with you.\n",
      "\n",
      "If you have anything else you'd like to discuss or additional fields you'd like to fill out, feel free to ask!\n",
      "--------------------------\n",
      "\n",
      "Ending conversation...\n"
     ]
    }
   ],
   "source": [
    "thread = client.beta.threads.create()\n",
    "\n",
    "run = client.beta.threads.runs.create(\n",
    "    thread_id=thread.id,\n",
    "    assistant_id=assistant.id\n",
    ")\n",
    "print(f\"New run created: {run.id}\")\n",
    "\n",
    "while True:\n",
    "    user_input = input(\"User: \")\n",
    "\n",
    "    # If user says 'complete conversation', break out of the loop.\n",
    "    if user_input.strip().lower() == \"complete conversation\":\n",
    "        print(\"Ending conversation...\")\n",
    "        break\n",
    "\n",
    "    # Create a new user message in the thread.\n",
    "    client.beta.threads.messages.create(\n",
    "        thread_id=thread.id,\n",
    "        role=\"user\",\n",
    "        content=user_input\n",
    "    )\n",
    "\n",
    "    # Poll for the assistant response within the same run.\n",
    "    # This blocks until the assistant response is ready.\n",
    "    run = client.beta.threads.runs.create_and_poll(\n",
    "        thread_id=thread.id,\n",
    "        assistant_id=assistant.id\n",
    "    )\n",
    "\n",
    "    # Retrieve all messages in this thread to print them.\n",
    "    messages = client.beta.threads.messages.list(thread_id=thread.id).data\n",
    "\n",
    "    # Print the entire conversation (user & assistant).\n",
    "    # For a real UI, you might only want to print the last message or so.\n",
    "    print(\"\\n--- Conversation so far ---\")\n",
    "    for msg in reversed(messages):\n",
    "        for part in msg.content:\n",
    "        # If there's a file in this part, you can download it\n",
    "            if hasattr(part, 'file') and part.file is not None:\n",
    "                file_id = part.file.id  # The unique ID for the file in the system\n",
    "                file_name = part.file.filename  # The original filename, e.g. \"Filled_Intake_Form.pdf\"\n",
    "\n",
    "                print(f\"Downloading file ID {file_id} with name {file_name}...\")\n",
    "\n",
    "                # 3. Download the file data\n",
    "                file_data = client.files.download(file_id=file_id)\n",
    "\n",
    "                # 4. Write the data to a local file\n",
    "                with open(file_name, \"wb\") as f:\n",
    "                    f.write(file_data)\n",
    "\n",
    "                print(f\"Saved as {file_name}\")    \n",
    "        role = msg.role\n",
    "        # Some messages can have multiple \"parts,\" but typically you only have text in one block:\n",
    "        content = msg.content[0].text.value if msg.content and msg.content[0].text else ''\n",
    "        print(f\"{role.capitalize()}: {content}\")\n",
    "    print(\"--------------------------\\n\")\n"
   ]
  }
 ],
 "metadata": {
  "kernelspec": {
   "display_name": "phill-it",
   "language": "python",
   "name": "python3"
  },
  "language_info": {
   "codemirror_mode": {
    "name": "ipython",
    "version": 3
   },
   "file_extension": ".py",
   "mimetype": "text/x-python",
   "name": "python",
   "nbconvert_exporter": "python",
   "pygments_lexer": "ipython3",
   "version": "3.12.8"
  }
 },
 "nbformat": 4,
 "nbformat_minor": 2
}
